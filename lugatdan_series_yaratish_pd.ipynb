{
  "nbformat": 4,
  "nbformat_minor": 0,
  "metadata": {
    "colab": {
      "provenance": [],
      "authorship_tag": "ABX9TyMv4dubFvb2Y3zm41Z+Umw+",
      "include_colab_link": true
    },
    "kernelspec": {
      "name": "python3",
      "display_name": "Python 3"
    },
    "language_info": {
      "name": "python"
    }
  },
  "cells": [
    {
      "cell_type": "markdown",
      "metadata": {
        "id": "view-in-github",
        "colab_type": "text"
      },
      "source": [
        "<a href=\"https://colab.research.google.com/github/otabekqoroboyev/data-science-pandas/blob/main/lugatdan_series_yaratish_pd.ipynb\" target=\"_parent\"><img src=\"https://colab.research.google.com/assets/colab-badge.svg\" alt=\"Open In Colab\"/></a>"
      ]
    },
    {
      "cell_type": "markdown",
      "source": [
        "# Lug'atdan Series yaratish Pandas kutubxonasi"
      ],
      "metadata": {
        "id": "ztHHp7OvY-MW"
      }
    },
    {
      "cell_type": "code",
      "execution_count": null,
      "metadata": {
        "id": "SDVq4VzvYwuw"
      },
      "outputs": [],
      "source": [
        "import pandas as pd\n",
        "import numpy as np\n",
        "from pandas import Series"
      ]
    },
    {
      "cell_type": "code",
      "source": [
        "car_dict = {\n",
        "    'malibu': 3900,\n",
        "    'damas' : 1050,\n",
        "    'nexia' : 1500,\n",
        "    'Bmw'   : 4500,\n",
        "}"
      ],
      "metadata": {
        "id": "bKG8-y5lZOUD"
      },
      "execution_count": null,
      "outputs": []
    },
    {
      "cell_type": "code",
      "source": [
        "type(car_dict)"
      ],
      "metadata": {
        "colab": {
          "base_uri": "https://localhost:8080/"
        },
        "id": "DEikcPVzZwf_",
        "outputId": "7fcca278-7f25-43ad-e952-753a4331e491"
      },
      "execution_count": null,
      "outputs": [
        {
          "output_type": "execute_result",
          "data": {
            "text/plain": [
              "dict"
            ]
          },
          "metadata": {},
          "execution_count": 36
        }
      ]
    },
    {
      "cell_type": "code",
      "source": [
        "cars1 = Series(car_dict)"
      ],
      "metadata": {
        "id": "Lvl46xciacVp"
      },
      "execution_count": null,
      "outputs": []
    },
    {
      "cell_type": "code",
      "source": [
        "cars1"
      ],
      "metadata": {
        "colab": {
          "base_uri": "https://localhost:8080/"
        },
        "id": "3st55cGfcT62",
        "outputId": "585032b7-62e2-4bf8-aac0-874c90ed949f"
      },
      "execution_count": null,
      "outputs": [
        {
          "output_type": "execute_result",
          "data": {
            "text/plain": [
              "malibu    3900\n",
              "damas     1050\n",
              "nexia     1500\n",
              "Bmw       4500\n",
              "dtype: int64"
            ]
          },
          "metadata": {},
          "execution_count": 38
        }
      ]
    },
    {
      "cell_type": "code",
      "source": [
        "type(cars1)"
      ],
      "metadata": {
        "colab": {
          "base_uri": "https://localhost:8080/"
        },
        "id": "ylbR1lmBdCLY",
        "outputId": "da6261bb-bdc5-40e9-cbf5-2bfa88c6e90c"
      },
      "execution_count": null,
      "outputs": [
        {
          "output_type": "execute_result",
          "data": {
            "text/plain": [
              "pandas.core.series.Series"
            ]
          },
          "metadata": {},
          "execution_count": 39
        }
      ]
    },
    {
      "cell_type": "code",
      "source": [
        "cars1['malibu']"
      ],
      "metadata": {
        "colab": {
          "base_uri": "https://localhost:8080/"
        },
        "id": "YvO0wwNHdRPi",
        "outputId": "1cff406a-1774-46b8-aba2-1bf4d7578915"
      },
      "execution_count": null,
      "outputs": [
        {
          "output_type": "execute_result",
          "data": {
            "text/plain": [
              "3900"
            ]
          },
          "metadata": {},
          "execution_count": 40
        }
      ]
    },
    {
      "cell_type": "code",
      "source": [
        "'malibu' in cars1 # malibu lugat ichida borligini tekshiradi"
      ],
      "metadata": {
        "colab": {
          "base_uri": "https://localhost:8080/"
        },
        "id": "eI8TConadjF3",
        "outputId": "16b11128-b889-435f-8899-3498bc1eb65f"
      },
      "execution_count": null,
      "outputs": [
        {
          "output_type": "execute_result",
          "data": {
            "text/plain": [
              "True"
            ]
          },
          "metadata": {},
          "execution_count": 41
        }
      ]
    },
    {
      "cell_type": "code",
      "source": [
        "'bmw' in cars1"
      ],
      "metadata": {
        "colab": {
          "base_uri": "https://localhost:8080/"
        },
        "id": "NsudE-GKdpT-",
        "outputId": "17eb0836-3b28-426b-ea8a-11594562a473"
      },
      "execution_count": null,
      "outputs": [
        {
          "output_type": "execute_result",
          "data": {
            "text/plain": [
              "False"
            ]
          },
          "metadata": {},
          "execution_count": 42
        }
      ]
    },
    {
      "cell_type": "code",
      "source": [
        "models = ({\n",
        "    'malibu': 3900,\n",
        "    'damas' : 1050,\n",
        "    'nexia' : 1500,\n",
        "    'Bmw'   : 4500,\n",
        "    'matiz' : 900,\n",
        "    \"ferrari\": 9666})"
      ],
      "metadata": {
        "id": "Z39g4KbIei0N"
      },
      "execution_count": null,
      "outputs": []
    },
    {
      "cell_type": "code",
      "source": [
        "cars2 = Series(car_dict, index=models) # ikkita elementni qo'shgan holsda chiqaradi"
      ],
      "metadata": {
        "id": "Z060rvQgd1IH"
      },
      "execution_count": null,
      "outputs": []
    },
    {
      "cell_type": "code",
      "source": [
        "cars2"
      ],
      "metadata": {
        "colab": {
          "base_uri": "https://localhost:8080/"
        },
        "id": "-KRuK7BRfIlg",
        "outputId": "0016f47a-5a7b-4243-dd86-c8a4bae98f3c"
      },
      "execution_count": null,
      "outputs": [
        {
          "output_type": "execute_result",
          "data": {
            "text/plain": [
              "malibu     3900.0\n",
              "damas      1050.0\n",
              "nexia      1500.0\n",
              "Bmw        4500.0\n",
              "matiz         NaN\n",
              "ferrari       NaN\n",
              "dtype: float64"
            ]
          },
          "metadata": {},
          "execution_count": 49
        }
      ]
    },
    {
      "cell_type": "markdown",
      "source": [
        "# Series metodi"
      ],
      "metadata": {
        "id": "SM2C6AMqfnkk"
      }
    },
    {
      "cell_type": "code",
      "source": [
        "cars2.isnull() # 0 ga teng bo'lsa false bo' mavjud bo'lmasa yani"
      ],
      "metadata": {
        "colab": {
          "base_uri": "https://localhost:8080/"
        },
        "id": "ONE8Kj5yf7ta",
        "outputId": "0adcd45f-aedf-4722-dba9-4eadfe1a79eb"
      },
      "execution_count": null,
      "outputs": [
        {
          "output_type": "execute_result",
          "data": {
            "text/plain": [
              "malibu     False\n",
              "damas      False\n",
              "nexia      False\n",
              "Bmw        False\n",
              "matiz       True\n",
              "ferrari     True\n",
              "dtype: bool"
            ]
          },
          "metadata": {},
          "execution_count": 50
        }
      ]
    },
    {
      "cell_type": "code",
      "source": [
        "cars2.notnull() # 0 ga teng bo'lmasa true bo'ladi"
      ],
      "metadata": {
        "colab": {
          "base_uri": "https://localhost:8080/"
        },
        "id": "HLpd87srfJoH",
        "outputId": "2898a2a7-03d0-4648-a624-6249fde02db4"
      },
      "execution_count": null,
      "outputs": [
        {
          "output_type": "execute_result",
          "data": {
            "text/plain": [
              "malibu      True\n",
              "damas       True\n",
              "nexia       True\n",
              "Bmw         True\n",
              "matiz      False\n",
              "ferrari    False\n",
              "dtype: bool"
            ]
          },
          "metadata": {},
          "execution_count": 52
        }
      ]
    },
    {
      "cell_type": "code",
      "source": [
        "cars2.name = 'Avtosalon'"
      ],
      "metadata": {
        "id": "OHipJm5QgaNf"
      },
      "execution_count": null,
      "outputs": []
    },
    {
      "cell_type": "code",
      "source": [
        "cars2.index.name = 'modellar'"
      ],
      "metadata": {
        "id": "bwvF9cspi-pW"
      },
      "execution_count": null,
      "outputs": []
    },
    {
      "cell_type": "code",
      "source": [
        "cars2"
      ],
      "metadata": {
        "colab": {
          "base_uri": "https://localhost:8080/"
        },
        "id": "TMnvUOLrjN5U",
        "outputId": "faefc45b-da62-4114-d497-e3d000248b2b"
      },
      "execution_count": null,
      "outputs": [
        {
          "output_type": "execute_result",
          "data": {
            "text/plain": [
              "modellar\n",
              "malibu     3900.0\n",
              "damas      1050.0\n",
              "nexia      1500.0\n",
              "Bmw        4500.0\n",
              "matiz         NaN\n",
              "ferrari       NaN\n",
              "Name: Avtosalon, dtype: float64"
            ]
          },
          "metadata": {},
          "execution_count": 59
        }
      ]
    },
    {
      "cell_type": "code",
      "source": [],
      "metadata": {
        "id": "DCJGAOm2jdhe"
      },
      "execution_count": null,
      "outputs": []
    }
  ]
}